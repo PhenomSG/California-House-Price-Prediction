{
 "cells": [
  {
   "cell_type": "markdown",
   "id": "23e97645-8ec5-41f7-9f35-2e7d5c9cf5ce",
   "metadata": {},
   "source": [
    "# Importing Dependencies"
   ]
  },
  {
   "cell_type": "code",
   "execution_count": 1,
   "id": "33972029-b97c-4f58-b45f-06093bda6f14",
   "metadata": {},
   "outputs": [],
   "source": [
    "# Importing NumPy for array handling\n",
    "import numpy as np\n",
    "\n",
    "# Importing Pandas for data manipulation and analysis\n",
    "import pandas as pd"
   ]
  },
  {
   "cell_type": "code",
   "execution_count": 2,
   "id": "d9ce4546-ceff-4dca-9742-f28cd7862a8d",
   "metadata": {},
   "outputs": [],
   "source": [
    "# California House Price Dataset is present in sklearn for education purposes\n",
    "from sklearn.datasets import fetch_california_housing"
   ]
  },
  {
   "cell_type": "markdown",
   "id": "e8139231-50a3-41ff-b9e2-e0d8addcd23f",
   "metadata": {},
   "source": [
    "# House Data Description\r\n",
    "\r\n",
    "This dataset provides various features related to housing in different blocks. Below is an explanation of each attribute:\r\n",
    "\r\n",
    "1. **Longitude**  \r\n",
    "   A measure of how far west a house is. A higher value indicates the house is farther west.\r\n",
    "\r\n",
    "2. **Latitude**  \r\n",
    "   A measure of how far north a house is. A higher value indicates the house is farther north.\r\n",
    "\r\n",
    "3. **HousingMedianAge**  \r\n",
    "   The median age of houses within a block. A lower number suggests that the buildings are newer.\r\n",
    "\r\n",
    "4. **TotalRooms**  \r\n",
    "   The total number of rooms within a block.\r\n",
    "\r\n",
    "5. **TotalBedrooms**  \r\n",
    "   The total number of bedrooms within a block.\r\n",
    "\r\n",
    "6. **Population**  \r\n",
    "   The total number of people residing within a block.\r\n",
    "\r\n",
    "7. **Households**  \r\n",
    "   The total number of households, which refers to a group of people residing within a home unit, for a block.\r\n",
    "\r\n",
    "8. **MedianIncome**  \r\n",
    "   The median income for households within a block of houses, measured in tens of thousands of US Dollars.\r\n",
    "\r\n",
    "9. **MedianHouseValue**  \r\n",
    "   The median value of houses within a block, measured in US Dollars.\r\n",
    "\r\n",
    "10. **OceanProximity**  \r\n",
    "    The location of the house relative to the ocean/sea (e.g., near, inland, coastal).\r\n"
   ]
  },
  {
   "cell_type": "code",
   "execution_count": null,
   "id": "2af8497d-16f4-40f4-90fd-1fa3e67f216f",
   "metadata": {},
   "outputs": [],
   "source": []
  },
  {
   "cell_type": "code",
   "execution_count": null,
   "id": "ece4e6d8-d9a9-4957-8c44-caaa467ed6ab",
   "metadata": {},
   "outputs": [],
   "source": []
  },
  {
   "cell_type": "code",
   "execution_count": null,
   "id": "a528ade9-23cd-4594-89a6-14f0a1a89a9e",
   "metadata": {},
   "outputs": [],
   "source": []
  },
  {
   "cell_type": "code",
   "execution_count": null,
   "id": "46b55bf1-66f6-4b56-b505-46e64d3b836c",
   "metadata": {},
   "outputs": [],
   "source": []
  },
  {
   "cell_type": "code",
   "execution_count": null,
   "id": "f9b57150-d9ec-49f6-9064-28184982c568",
   "metadata": {},
   "outputs": [],
   "source": []
  },
  {
   "cell_type": "code",
   "execution_count": null,
   "id": "70a0662b-0f6a-4e83-90ce-e4b00c125f7e",
   "metadata": {},
   "outputs": [],
   "source": []
  },
  {
   "cell_type": "code",
   "execution_count": null,
   "id": "50e4a6bc-e461-4d4b-b53b-0ebfd765f9e4",
   "metadata": {},
   "outputs": [],
   "source": []
  },
  {
   "cell_type": "code",
   "execution_count": null,
   "id": "553c2b82-880a-43db-91a4-c12d9e0b3698",
   "metadata": {},
   "outputs": [],
   "source": []
  },
  {
   "cell_type": "code",
   "execution_count": null,
   "id": "79366f85-8f6a-4dd7-8153-55a47f2f570e",
   "metadata": {},
   "outputs": [],
   "source": []
  },
  {
   "cell_type": "code",
   "execution_count": null,
   "id": "2f08bef1-ccc0-4eb4-890a-9398b12cc9ff",
   "metadata": {},
   "outputs": [],
   "source": []
  },
  {
   "cell_type": "code",
   "execution_count": null,
   "id": "a1a14719-9ce2-44d8-a44b-e797f9bbf7b8",
   "metadata": {},
   "outputs": [],
   "source": []
  }
 ],
 "metadata": {
  "kernelspec": {
   "display_name": "Python 3 (ipykernel)",
   "language": "python",
   "name": "python3"
  },
  "language_info": {
   "codemirror_mode": {
    "name": "ipython",
    "version": 3
   },
   "file_extension": ".py",
   "mimetype": "text/x-python",
   "name": "python",
   "nbconvert_exporter": "python",
   "pygments_lexer": "ipython3",
   "version": "3.11.0"
  }
 },
 "nbformat": 4,
 "nbformat_minor": 5
}
